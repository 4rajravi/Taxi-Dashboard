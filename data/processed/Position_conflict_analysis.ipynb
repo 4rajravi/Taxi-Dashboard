{
 "cells": [
  {
   "cell_type": "code",
   "execution_count": 27,
   "id": "30f839a5-5140-4104-b433-1f263f21c939",
   "metadata": {},
   "outputs": [],
   "source": [
    "import pandas as pd\n",
    "import warnings\n",
    "warnings.filterwarnings('ignore')"
   ]
  },
  {
   "cell_type": "code",
   "execution_count": 28,
   "id": "8ff87310-cc37-4c08-b1ce-4d230abcc7f3",
   "metadata": {},
   "outputs": [],
   "source": [
    "def find_conflicting_coordinates(pickle_file_path):\n",
    "    \"\"\"\n",
    "    Reads data from a pickle file and checks if for the same taxi_id and timestamp,\n",
    "    there are different coordinates.\n",
    "    \n",
    "    :param pickle_file_path: Path to the pickle file\n",
    "    :return: DataFrame with conflicting rows, or an empty DataFrame if none found\n",
    "    \"\"\"\n",
    "    # Load data\n",
    "    df = pd.read_pickle(pickle_file_path)\n",
    "\n",
    "    # Check required columns\n",
    "    required_cols = {'taxi_id', 'latitude', 'longitude', 'timestamp'}\n",
    "    if not required_cols.issubset(df.columns):\n",
    "        raise ValueError(f\"Missing one of required columns: {required_cols}\")\n",
    "\n",
    "    # Group by taxi_id and timestamp\n",
    "    grouped = df.groupby(['taxi_id', 'timestamp'])\n",
    "\n",
    "    # Find groups with more than one unique (lat, lon) pair\n",
    "    conflicts = grouped.agg({\n",
    "        'latitude': pd.Series.nunique,\n",
    "        'longitude': pd.Series.nunique\n",
    "    }).reset_index()\n",
    "\n",
    "    # Keep groups with multiple unique coordinates\n",
    "    conflicting_keys = conflicts[\n",
    "        (conflicts['latitude'] > 1) | (conflicts['longitude'] > 1)\n",
    "    ][['taxi_id', 'timestamp']]\n",
    "\n",
    "    # Join back to original data to show all conflicting rows\n",
    "    if not conflicting_keys.empty:\n",
    "        merged = df.merge(conflicting_keys, on=['taxi_id', 'timestamp'], how='inner')\n",
    "        return merged\n",
    "    else:\n",
    "        return pd.DataFrame(columns=df.columns)\n"
   ]
  },
  {
   "cell_type": "code",
   "execution_count": 2,
   "id": "a385df2d-e91d-4aff-86d2-71b7307d895b",
   "metadata": {},
   "outputs": [],
   "source": [
    "conflicts = find_conflicting_coordinates(\"merged_cleaned_data.pkl\")\n",
    "if conflicts.empty:\n",
    "    print(\"No conflicting coordinates found.\")\n"
   ]
  },
  {
   "cell_type": "code",
   "execution_count": 3,
   "id": "97bc6d01-54e6-4967-94f3-03fe653cd48a",
   "metadata": {},
   "outputs": [
    {
     "data": {
      "text/html": [
       "<div>\n",
       "<style scoped>\n",
       "    .dataframe tbody tr th:only-of-type {\n",
       "        vertical-align: middle;\n",
       "    }\n",
       "\n",
       "    .dataframe tbody tr th {\n",
       "        vertical-align: top;\n",
       "    }\n",
       "\n",
       "    .dataframe thead th {\n",
       "        text-align: right;\n",
       "    }\n",
       "</style>\n",
       "<table border=\"1\" class=\"dataframe\">\n",
       "  <thead>\n",
       "    <tr style=\"text-align: right;\">\n",
       "      <th></th>\n",
       "      <th>taxi_id</th>\n",
       "      <th>timestamp</th>\n",
       "      <th>longitude</th>\n",
       "      <th>latitude</th>\n",
       "      <th>trip_status</th>\n",
       "    </tr>\n",
       "  </thead>\n",
       "  <tbody>\n",
       "    <tr>\n",
       "      <th>0</th>\n",
       "      <td>3741</td>\n",
       "      <td>2008-02-02 13:34:50</td>\n",
       "      <td>116.39968</td>\n",
       "      <td>39.97224</td>\n",
       "      <td>active</td>\n",
       "    </tr>\n",
       "    <tr>\n",
       "      <th>1</th>\n",
       "      <td>3741</td>\n",
       "      <td>2008-02-02 13:34:50</td>\n",
       "      <td>116.34231</td>\n",
       "      <td>39.97224</td>\n",
       "      <td>active</td>\n",
       "    </tr>\n",
       "    <tr>\n",
       "      <th>2</th>\n",
       "      <td>1957</td>\n",
       "      <td>2008-02-02 13:37:45</td>\n",
       "      <td>117.02122</td>\n",
       "      <td>40.35947</td>\n",
       "      <td>active</td>\n",
       "    </tr>\n",
       "    <tr>\n",
       "      <th>3</th>\n",
       "      <td>1957</td>\n",
       "      <td>2008-02-02 13:37:45</td>\n",
       "      <td>117.02121</td>\n",
       "      <td>40.35947</td>\n",
       "      <td>active</td>\n",
       "    </tr>\n",
       "    <tr>\n",
       "      <th>4</th>\n",
       "      <td>1824</td>\n",
       "      <td>2008-02-02 13:38:28</td>\n",
       "      <td>116.30483</td>\n",
       "      <td>39.88109</td>\n",
       "      <td>active</td>\n",
       "    </tr>\n",
       "  </tbody>\n",
       "</table>\n",
       "</div>"
      ],
      "text/plain": [
       "   taxi_id           timestamp  longitude  latitude trip_status\n",
       "0     3741 2008-02-02 13:34:50  116.39968  39.97224      active\n",
       "1     3741 2008-02-02 13:34:50  116.34231  39.97224      active\n",
       "2     1957 2008-02-02 13:37:45  117.02122  40.35947      active\n",
       "3     1957 2008-02-02 13:37:45  117.02121  40.35947      active\n",
       "4     1824 2008-02-02 13:38:28  116.30483  39.88109      active"
      ]
     },
     "execution_count": 3,
     "metadata": {},
     "output_type": "execute_result"
    }
   ],
   "source": [
    "conflicts.head()"
   ]
  },
  {
   "cell_type": "code",
   "execution_count": 5,
   "id": "9d9dd908-b4db-4b14-b3dd-7957ddd2a411",
   "metadata": {},
   "outputs": [
    {
     "data": {
      "text/plain": [
       "(3851, 5)"
      ]
     },
     "execution_count": 5,
     "metadata": {},
     "output_type": "execute_result"
    }
   ],
   "source": [
    "conflicts.shape"
   ]
  },
  {
   "cell_type": "code",
   "execution_count": 7,
   "id": "cb980913-3e6b-44e5-93dd-039f66ad0852",
   "metadata": {},
   "outputs": [
    {
     "name": "stdout",
     "output_type": "stream",
     "text": [
      "Number of conflicted taxi IDs: 889\n"
     ]
    }
   ],
   "source": [
    "conflicted_taxi_ids = conflicts['taxi_id'].nunique()\n",
    "print(f\"Number of conflicted taxi IDs: {conflicted_taxi_ids}\")"
   ]
  },
  {
   "cell_type": "code",
   "execution_count": 9,
   "id": "111753fa-11ce-4470-8e06-fb1656e6e558",
   "metadata": {},
   "outputs": [],
   "source": [
    "conflict_counts_pertaxi = conflicts.groupby('taxi_id').size().reset_index(name='conflict_row_count')"
   ]
  },
  {
   "cell_type": "code",
   "execution_count": 11,
   "id": "860bd332-6df7-4a1d-9c1c-e2f2583c4308",
   "metadata": {},
   "outputs": [
    {
     "data": {
      "text/plain": [
       "np.int64(130)"
      ]
     },
     "execution_count": 11,
     "metadata": {},
     "output_type": "execute_result"
    }
   ],
   "source": [
    "conflict_counts_pertaxi.conflict_row_count.max()"
   ]
  },
  {
   "cell_type": "code",
   "execution_count": 15,
   "id": "d6a74ee7-62f1-4ca5-a8f0-3850db5e95df",
   "metadata": {},
   "outputs": [
    {
     "data": {
      "text/plain": [
       "526    3557\n",
       "Name: taxi_id, dtype: int64"
      ]
     },
     "execution_count": 15,
     "metadata": {},
     "output_type": "execute_result"
    }
   ],
   "source": [
    "conflict_counts_pertaxi[conflict_counts_pertaxi.conflict_row_count == 130].taxi_id"
   ]
  },
  {
   "cell_type": "code",
   "execution_count": 20,
   "id": "e08dfe51-2b15-4d2e-83ab-11ce628674c9",
   "metadata": {
    "scrolled": true
   },
   "outputs": [
    {
     "data": {
      "text/plain": [
       "timestamp\n",
       "2008-02-03 11:46:19    2\n",
       "2008-02-03 12:37:02    2\n",
       "2008-02-03 17:42:01    2\n",
       "2008-02-03 18:01:39    2\n",
       "2008-02-03 19:12:28    2\n",
       "                      ..\n",
       "2008-02-08 13:26:05    2\n",
       "2008-02-08 14:03:38    2\n",
       "2008-02-08 17:00:05    2\n",
       "2008-02-08 17:00:19    2\n",
       "2008-02-08 17:10:52    2\n",
       "Name: taxi_id, Length: 65, dtype: int64"
      ]
     },
     "execution_count": 20,
     "metadata": {},
     "output_type": "execute_result"
    }
   ],
   "source": [
    "conflict_counts = conflicts.groupby('taxi_id').size().reset_index(name='conflict_row_count')"
   ]
  },
  {
   "cell_type": "code",
   "execution_count": 21,
   "id": "1f15d013-2c7e-43b5-b7f5-01b091ac4530",
   "metadata": {},
   "outputs": [],
   "source": [
    "conflict_counts_pertime = conflicts.groupby(['taxi_id','timestamp']).size().reset_index(name='conflict_row_count')"
   ]
  },
  {
   "cell_type": "code",
   "execution_count": 23,
   "id": "4b553b30-7bea-4dd3-9a0f-68c368e1807d",
   "metadata": {},
   "outputs": [
    {
     "data": {
      "text/plain": [
       "np.int64(3)"
      ]
     },
     "execution_count": 23,
     "metadata": {},
     "output_type": "execute_result"
    }
   ],
   "source": [
    "conflict_counts_pertime.conflict_row_count.max()"
   ]
  },
  {
   "cell_type": "code",
   "execution_count": 29,
   "id": "3a7329e1-6ec9-4896-bcf0-4ba81d914f3d",
   "metadata": {},
   "outputs": [],
   "source": [
    "# Sort for consistent ordering\n",
    "conflicts_df = conflicts.sort_values(['taxi_id', 'timestamp'])\n",
    "\n",
    "# Group by both taxi_id and timestamp\n",
    "def compute_diffs(group):\n",
    "    if len(group) < 2:\n",
    "        return None\n",
    "    row1, row2 = group.iloc[0], group.iloc[1]\n",
    "    return pd.Series({\n",
    "        'lat_diff': abs(row1['latitude'] - row2['latitude']),\n",
    "        'lon_diff': abs(row1['longitude'] - row2['longitude']),\n",
    "        'taxi_id': row1['taxi_id'],\n",
    "        'timestamp': row1['timestamp']\n",
    "    })\n",
    "\n",
    "coord_diffs = conflicts_df.groupby(['taxi_id', 'timestamp']).apply(compute_diffs).dropna().reset_index(drop=True)"
   ]
  },
  {
   "cell_type": "code",
   "execution_count": 34,
   "id": "14517937-691c-41e6-9d06-48764069b9b1",
   "metadata": {},
   "outputs": [
    {
     "name": "stdout",
     "output_type": "stream",
     "text": [
      "Maximum latitude difference: 40.071\n",
      "Average latitude difference: 0.885\n",
      "Minimum latitude difference: 0.0\n"
     ]
    }
   ],
   "source": [
    "print(\"Maximum latitude difference:\",round(coord_diffs.lat_diff.max(),3))\n",
    "print(\"Average latitude difference:\",round(coord_diffs.lat_diff.mean(),3))\n",
    "print(\"Minimum latitude difference:\",round(coord_diffs.lat_diff.min(),3))"
   ]
  },
  {
   "cell_type": "code",
   "execution_count": 36,
   "id": "6f1fa389-02be-434a-ba92-dafcc681a6f7",
   "metadata": {},
   "outputs": [
    {
     "data": {
      "text/plain": [
       "count    1922.000000\n",
       "mean        0.884561\n",
       "std         3.891852\n",
       "min         0.000000\n",
       "25%         0.000000\n",
       "50%         0.000010\n",
       "75%         0.087922\n",
       "max        40.070980\n",
       "Name: lat_diff, dtype: float64"
      ]
     },
     "execution_count": 36,
     "metadata": {},
     "output_type": "execute_result"
    }
   ],
   "source": [
    "coord_diffs.lat_diff.describe()"
   ]
  },
  {
   "cell_type": "code",
   "execution_count": 35,
   "id": "9a8a3ded-50e6-4ad7-9a5e-83c13376d5de",
   "metadata": {},
   "outputs": [
    {
     "name": "stdout",
     "output_type": "stream",
     "text": [
      "Maximum longitude difference: 116.977\n",
      "Average longitude difference: 1.218\n",
      "Minimum longitude difference: 0.0\n"
     ]
    }
   ],
   "source": [
    "print(\"Maximum longitude difference:\",round(coord_diffs.lon_diff.max(),3))\n",
    "print(\"Average longitude difference:\",round(coord_diffs.lon_diff.mean(),3))\n",
    "print(\"Minimum longitude difference:\",round(coord_diffs.lon_diff.min(),3))"
   ]
  },
  {
   "cell_type": "code",
   "execution_count": 37,
   "id": "747544b1-6610-4fec-ac45-bf823b060c70",
   "metadata": {},
   "outputs": [
    {
     "data": {
      "text/plain": [
       "count    1922.000000\n",
       "mean        1.218494\n",
       "std         8.375901\n",
       "min         0.000000\n",
       "25%         0.000010\n",
       "50%         0.030065\n",
       "75%         0.179290\n",
       "max       116.977020\n",
       "Name: lon_diff, dtype: float64"
      ]
     },
     "execution_count": 37,
     "metadata": {},
     "output_type": "execute_result"
    }
   ],
   "source": [
    "coord_diffs.lon_diff.describe()"
   ]
  },
  {
   "cell_type": "code",
   "execution_count": null,
   "id": "c577636b-0041-408c-aaf6-16dfd2d495a5",
   "metadata": {},
   "outputs": [],
   "source": []
  }
 ],
 "metadata": {
  "kernelspec": {
   "display_name": "Python (work)",
   "language": "python",
   "name": "work"
  },
  "language_info": {
   "codemirror_mode": {
    "name": "ipython",
    "version": 3
   },
   "file_extension": ".py",
   "mimetype": "text/x-python",
   "name": "python",
   "nbconvert_exporter": "python",
   "pygments_lexer": "ipython3",
   "version": "3.10.16"
  }
 },
 "nbformat": 4,
 "nbformat_minor": 5
}
